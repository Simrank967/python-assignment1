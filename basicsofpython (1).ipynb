{
  "nbformat": 4,
  "nbformat_minor": 0,
  "metadata": {
    "colab": {
      "provenance": []
    },
    "kernelspec": {
      "name": "python3",
      "display_name": "Python 3"
    },
    "language_info": {
      "name": "python"
    }
  },
  "cells": [
    {
      "cell_type": "code",
      "execution_count": null,
      "metadata": {
        "colab": {
          "base_uri": "https://localhost:8080/"
        },
        "id": "muMffy7B4qzb",
        "outputId": "775ab81e-d0c7-41c3-96a1-c3b83775cd8a"
      },
      "outputs": [
        {
          "output_type": "stream",
          "name": "stdout",
          "text": [
            "[11, 12, 13, 14, 50, 60]\n"
          ]
        }
      ],
      "source": [
        "L=[11,12,13,14]\n",
        "L.append(50)\n",
        "L.append(60)\n",
        "print(L)"
      ]
    },
    {
      "cell_type": "code",
      "source": [
        "L=[11,12,13,14,50,60]\n",
        "L.remove(11)\n",
        "L.remove(13)\n",
        "\n",
        "L.sort()\n",
        "L.sort(reverse=True)\n",
        "print(L)\n",
        "\n",
        "\n"
      ],
      "metadata": {
        "colab": {
          "base_uri": "https://localhost:8080/"
        },
        "id": "E0mPD5dP5gk3",
        "outputId": "4d29505f-5df3-4c3c-d3ec-abd7abcc6378"
      },
      "execution_count": null,
      "outputs": [
        {
          "output_type": "stream",
          "name": "stdout",
          "text": [
            "[60, 50, 14, 12]\n"
          ]
        }
      ]
    },
    {
      "cell_type": "code",
      "source": [
        "L=[11,12,13, 14]\n",
        "if 13 in L:\n",
        "   print(\"present\")\n",
        "else:\n",
        "  print(\"not present\")\n",
        "\n",
        "\n",
        "add1=0\n",
        "for s in L:\n",
        " add1=add1+1\n",
        "print(add1)\n",
        "\n",
        "sumeven=0\n",
        "sumodd=0\n",
        "for s in L:\n",
        " if (s%2==0):\n",
        "   sumeven=sumeven+ s\n",
        " else:\n",
        "  sumodd=sumodd+s;\n",
        "print(\"sum of odd no.\",sumodd)\n",
        "print(\"sum of even no.\",sumeven)\n",
        "\n",
        "\n",
        "L = [11, 12, 13, 14]\n",
        "primesum = 0\n",
        "\n",
        "for s in L:\n",
        "    if s < 2:\n",
        "        continue\n",
        "    isprime = True\n",
        "    i = 2\n",
        "    while i <= (s // i):\n",
        "        if s % i == 0:\n",
        "            is_prime = False\n",
        "            break\n",
        "        i += 1\n",
        "    if isprime:\n",
        "        primesum += s\n",
        "\n",
        "print(\"Sum of prime numbers:\", primesum)\n",
        "\n",
        "\n",
        "L.clear()\n",
        "\n",
        "del L"
      ],
      "metadata": {
        "colab": {
          "base_uri": "https://localhost:8080/"
        },
        "id": "rDHwNApO7leZ",
        "outputId": "a21cfdd3-565e-45d4-e5a6-d7ac9d91ee08"
      },
      "execution_count": null,
      "outputs": [
        {
          "output_type": "stream",
          "name": "stdout",
          "text": [
            "present\n",
            "4\n",
            "sum of odd no. 24\n",
            "sum of even no. 26\n",
            "Sum of prime numbers: 50\n"
          ]
        }
      ]
    },
    {
      "cell_type": "code",
      "source": [
        "# Define the dictionary\n",
        "D = {1: 5.6, 2: 7.8, 3: 6.6, 4: 8.7, 5: 7.7}\n",
        "\n",
        "# (i) Add new entry in D; key=8 and value=8.8\n",
        "D[8] = 8.8\n",
        "\n",
        "# (ii) Remove key=2\n",
        "D.pop(2)\n",
        "\n",
        "# (iii) Check whether key=6 is present in D\n",
        "if 6 in D:\n",
        "    print(\"6 is present\")\n",
        "else:\n",
        "    print(\"6 is not present\")\n",
        "\n",
        "# (iv) Count the number of elements present in D\n",
        "print(\"Number of elements:\", len(D))\n",
        "\n",
        "# (v) Add all the values present in D\n",
        "# ✅ Avoid using 'sum' as a variable name\n",
        "#total = sum(D.values())\n",
        "#print( total)\n",
        "\n",
        "# (vi) Update the value of key=3 to 7.1\n",
        "D[3] = 7.1\n",
        "\n",
        "# (vii) Clear the dictionary\n",
        "D.clear()\n",
        "\n",
        "# Optional: Print final state of D\n",
        "print(\"Final dictionary:\", D)\n"
      ],
      "metadata": {
        "colab": {
          "base_uri": "https://localhost:8080/"
        },
        "id": "Tt3iLnIEEVP7",
        "outputId": "3aa80d47-1d0f-4f5c-d269-853f9de690c7"
      },
      "execution_count": null,
      "outputs": [
        {
          "output_type": "stream",
          "name": "stdout",
          "text": [
            "6 is not present\n",
            "Number of elements: 5\n",
            "Final dictionary: {}\n"
          ]
        }
      ]
    },
    {
      "cell_type": "code",
      "source": [
        "s1={10,20,30,40,50,60}\n",
        "s2={40,50,60,70,80,90}\n",
        "\n",
        "# add 55 , 66 in s1\n",
        "s1.add(55)\n",
        "s1.add(66)\n",
        "\n",
        "# remove 10,30 from s1\n",
        "s1.remove(10)\n",
        "s1.remove(30)\n",
        "\n",
        "#check if 40 is present in s1\n",
        "if 40 in s1:\n",
        "  print(\"yes\")\n",
        "\n",
        "else:\n",
        "  print(\"no\")\n",
        "\n",
        "#union of s1 and s2\n",
        "s1.union(s2)\n",
        "# intersection of s1 and s2\n",
        "s1.intersection(s2)\n",
        "\n",
        "import random as r\n",
        "import string as s\n",
        "\n",
        "for i in range(100):\n",
        "    length = r.randint(6, 8)\n",
        "    rand_str = ''.join(r.sample(s.ascii_letters, k=length))  # Only letters\n",
        "    #print(rand_str)\n",
        "\n",
        "# print all prime no. between 600 and 800\n",
        "\n",
        "for num in range(600, 801):\n",
        "    if num < 2:\n",
        "        continue\n",
        "    is_prime = True\n",
        "    for i in range(2, num // i + 1):\n",
        "        if num % i == 0:\n",
        "            is_prime = False\n",
        "            break\n",
        "    if is_prime:\n",
        "       print(num)\n",
        "\n",
        "# all no. between 100 and 1000 divisible by 7 and 9\n",
        "\n",
        "for num in range(100, 1001):\n",
        "    if num % 7 == 0 and num % 9 == 0:\n",
        "        print(num)\n"
      ],
      "metadata": {
        "colab": {
          "base_uri": "https://localhost:8080/"
        },
        "id": "NhdrGf1GFj3S",
        "outputId": "f7e0fd73-2a3d-44c0-af90-44bd127be3d0"
      },
      "execution_count": null,
      "outputs": [
        {
          "output_type": "stream",
          "name": "stdout",
          "text": [
            "yes\n",
            "601\n",
            "607\n",
            "613\n",
            "617\n",
            "619\n",
            "631\n",
            "641\n",
            "643\n",
            "647\n",
            "653\n",
            "659\n",
            "661\n",
            "673\n",
            "677\n",
            "683\n",
            "691\n",
            "701\n",
            "709\n",
            "719\n",
            "727\n",
            "733\n",
            "739\n",
            "743\n",
            "751\n",
            "757\n",
            "761\n",
            "769\n",
            "773\n",
            "787\n",
            "797\n",
            "126\n",
            "189\n",
            "252\n",
            "315\n",
            "378\n",
            "441\n",
            "504\n",
            "567\n",
            "630\n",
            "693\n",
            "756\n",
            "819\n",
            "882\n",
            "945\n"
          ]
        }
      ]
    },
    {
      "cell_type": "code",
      "source": [
        "import random as r\n",
        "list1 = [r.randint(10, 30) for i in range(10)]\n",
        "list2 = [r.randint(10, 30) for i in range(10)]\n",
        "print(list1)\n",
        "print(list2)\n",
        "\n",
        "# (i) Common numbers\n",
        "common = list(set(list1) & set(list2))\n",
        "print(\"Common numbers:\", common)\n",
        "\n",
        "# (ii) Unique numbers in both lists\n",
        "unique = list(set(list1) ^ set(list2))\n",
        "print(\"Unique numbers in both lists:\", unique)\n",
        "\n",
        "# (iii) Minimum in both lists\n",
        "print(\"Minimum in List 1:\", min(list1))\n",
        "print(\"Minimum in List 2:\", min(list2))\n",
        "\n",
        "# (iv) Maximum in both lists\n",
        "print(\"Maximum in List 1:\", max(list1))\n",
        "print(\"Maximum in List 2:\", max(list2))\n",
        "\n",
        "# (v) Sum of both lists\n",
        "print(sum(list1))\n",
        "print(sum(list2))"
      ],
      "metadata": {
        "colab": {
          "base_uri": "https://localhost:8080/",
          "height": 332
        },
        "id": "cok8KaFKRAO7",
        "outputId": "0425be10-fb9c-41e7-f062-8504e3931df3"
      },
      "execution_count": null,
      "outputs": [
        {
          "output_type": "stream",
          "name": "stdout",
          "text": [
            "[23, 14, 19, 11, 23, 21, 17, 12, 10, 15]\n",
            "[30, 19, 23, 30, 20, 13, 16, 12, 14, 18]\n",
            "Common numbers: [19, 12, 14, 23]\n",
            "Unique numbers in both lists: [10, 11, 13, 15, 16, 17, 18, 20, 21, 30]\n",
            "Minimum in List 1: 10\n",
            "Minimum in List 2: 12\n",
            "Maximum in List 1: 23\n",
            "Maximum in List 2: 30\n"
          ]
        },
        {
          "output_type": "error",
          "ename": "TypeError",
          "evalue": "'int' object is not callable",
          "traceback": [
            "\u001b[0;31m---------------------------------------------------------------------------\u001b[0m",
            "\u001b[0;31mTypeError\u001b[0m                                 Traceback (most recent call last)",
            "\u001b[0;32m<ipython-input-94-3695263039>\u001b[0m in \u001b[0;36m<cell line: 0>\u001b[0;34m()\u001b[0m\n\u001b[1;32m     22\u001b[0m \u001b[0;34m\u001b[0m\u001b[0m\n\u001b[1;32m     23\u001b[0m \u001b[0;31m# (v) Sum of both lists\u001b[0m\u001b[0;34m\u001b[0m\u001b[0;34m\u001b[0m\u001b[0m\n\u001b[0;32m---> 24\u001b[0;31m \u001b[0mprint\u001b[0m\u001b[0;34m(\u001b[0m\u001b[0msum\u001b[0m\u001b[0;34m(\u001b[0m\u001b[0mlist1\u001b[0m\u001b[0;34m)\u001b[0m\u001b[0;34m)\u001b[0m\u001b[0;34m\u001b[0m\u001b[0;34m\u001b[0m\u001b[0m\n\u001b[0m\u001b[1;32m     25\u001b[0m \u001b[0mprint\u001b[0m\u001b[0;34m(\u001b[0m\u001b[0msum\u001b[0m\u001b[0;34m(\u001b[0m\u001b[0mlist2\u001b[0m\u001b[0;34m)\u001b[0m\u001b[0;34m)\u001b[0m\u001b[0;34m\u001b[0m\u001b[0;34m\u001b[0m\u001b[0m\n",
            "\u001b[0;31mTypeError\u001b[0m: 'int' object is not callable"
          ]
        }
      ]
    },
    {
      "cell_type": "code",
      "source": [
        "# list  of 100 random integers between 100 and 900\n",
        "ans= [r.randint(100, 900) for i in range(100)]\n",
        "\n",
        "# Odd numbers\n",
        "odd = [n for n in ans if n % 2 != 0]\n",
        "\n",
        "# Even numbers\n",
        "even = [n for n in ans if n % 2 == 0]\n",
        "\n",
        "#  Prime numbers\n",
        "prime = []\n",
        "for n in ans:\n",
        "    if n > 1:\n",
        "        for i in range(2, n // 2 + 1):\n",
        "            if n % i == 0:\n",
        "                break\n",
        "        else:\n",
        "            prime.append(n)\n"
      ],
      "metadata": {
        "id": "hRpjDA1GSZ2A"
      },
      "execution_count": null,
      "outputs": []
    },
    {
      "cell_type": "code",
      "source": [
        "D = {1:\"One\",2:\"Two\",3: \"Three\",4: \"Four\",5: \"Five\"}\n",
        "fp = open('result.txt', 'w')\n",
        "\n",
        "for key, value in D.items():\n",
        "    fp.write(str(key) + \", \" + value + \"\\n\")\n",
        "\n",
        "fp.close()   #\n",
        "\n",
        "print(\"Writing done\")\n"
      ],
      "metadata": {
        "colab": {
          "base_uri": "https://localhost:8080/"
        },
        "id": "iryQeH0rZk4q",
        "outputId": "bcd745bc-5187-4668-ce68-ceb7d71d89fe"
      },
      "execution_count": null,
      "outputs": [
        {
          "output_type": "stream",
          "name": "stdout",
          "text": [
            "Writing done !! \n",
            "Open result.txt to view the content\n"
          ]
        }
      ]
    },
    {
      "cell_type": "code",
      "source": [
        "#100 random strings of length  between 10 and 15\n",
        "import random as r\n",
        "fp=open('strings.txt','w')\n",
        "for i in range(100):\n",
        " length=r.randint(10,15)\n",
        " ans=\"\".join(r.sample(s.ascii_letters,k=length))\n",
        " fp.write(ans+'\\n')\n",
        "fp.close()\n"
      ],
      "metadata": {
        "id": "zsGIwl3jbtHy"
      },
      "execution_count": null,
      "outputs": []
    },
    {
      "cell_type": "code",
      "source": [
        "# all prime no. nbetween 600 and 800\n",
        "fp=open('prime.txt','w')\n",
        "for num in range(600, 801):\n",
        "    if num < 2:\n",
        "        continue\n",
        "    is_prime = True\n",
        "    for i in range(2, num // 2 + 1):\n",
        "        if num % i == 0:\n",
        "            is_prime = False\n",
        "            break\n",
        "    if is_prime:\n",
        "\n",
        "       fp.write(str(num) + '\\n')\n",
        "fp.close()"
      ],
      "metadata": {
        "id": "2qBl6gb_DKXw"
      },
      "execution_count": null,
      "outputs": []
    }
  ]
}